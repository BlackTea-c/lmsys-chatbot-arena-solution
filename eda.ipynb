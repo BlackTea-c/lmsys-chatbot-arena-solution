{
 "cells": [
  {
   "cell_type": "code",
   "execution_count": 1,
   "metadata": {},
   "outputs": [],
   "source": [
    "import polars as pl"
   ]
  },
  {
   "cell_type": "code",
   "execution_count": 10,
   "metadata": {},
   "outputs": [
    {
     "data": {
      "text/html": [
       "<div><style>\n",
       ".dataframe > thead > tr,\n",
       ".dataframe > tbody > tr {\n",
       "  text-align: right;\n",
       "  white-space: pre-wrap;\n",
       "}\n",
       "</style>\n",
       "<small>shape: (1, 9)</small><table border=\"1\" class=\"dataframe\"><thead><tr><th>id</th><th>model_a</th><th>model_b</th><th>prompt</th><th>response_a</th><th>response_b</th><th>winner_model_a</th><th>winner_model_b</th><th>winner_tie</th></tr><tr><td>i64</td><td>str</td><td>str</td><td>list[str]</td><td>list[str]</td><td>list[str]</td><td>i64</td><td>i64</td><td>i64</td></tr></thead><tbody><tr><td>30192</td><td>&quot;gpt-4-1106-preview&quot;</td><td>&quot;gpt-4-0613&quot;</td><td>[&quot;Is it morally right to try to have a certain percentage of females on managerial positions?&quot;, &quot;OK, does pineapple belong on a pizza? Relax and give me fun answer.&quot;]</td><td>[&quot;The question of whether it is morally right to aim for a certain percentage of females in managerial positions is a complex ethical issue that involves considerations of fairness, equality, diversity, and discrimination.\n",
       "\n",
       "Here are some arguments in favor of and against such policies:\n",
       "\n",
       "**Arguments in favor:**\n",
       "\n",
       "1. **Correcting Historical Inequities:** Women have historically been underrepresented in leadership roles due to various cultural, institutional, and social barriers. Aiming for a specific percentage can be seen as a corrective measure to address past and ongoing discrimination.\n",
       "\n",
       "2. **Promoting Diversity:** Diverse leadership teams can enhance decision-making and represent a broader range of perspectives. This can lead to better outcomes for organizations and society as a whole.\n",
       "\n",
       "3. **Equality of Opportunity:** Setting targets for female representation in management can help ensure that women have equal opportunities to advance in their careers.\n",
       "\n",
       "4. **Role Modeling:** Increased visibility of female leaders can inspire and encourage other women and girls to pursue leadership roles.\n",
       "\n",
       "**Arguments against:**\n",
       "\n",
       "1. **Reverse Discrimination:** Setting a quota for female representation might lead to the perception or reality of reverse discrimination, where men might be overlooked for positions despite being qualified, simply to meet the gender target.\n",
       "\n",
       "2. **Meritocracy Concerns:** Critics argue that employment and promotion should be based solely on merit and qualifications, not gender. They fear that quotas could compromise the quality of leadership if less qualified individuals are promoted to meet gender targets.\n",
       "\n",
       "3. **Tokenism:** There is a risk that women appointed to meet quotas might be seen as &quot;tokens,&quot; undermining their legitimacy and potentially leading to resentment among colleagues.\n",
       "\n",
       "4. **Oversimplification of Diversity:** Focusing only on gender might overlook other important aspects of diversity, such as race, ethnicity, socioeconomic background, or sexual orientation.\n",
       "\n",
       "Ultimately, the morality of aiming for a certain percentage of females in managerial positions depends on one&#x27;s ethical framework and the context in which such policies are implemented. Proponents of gender diversity targets often argue that these measures are necessary as a transitional mechanism to create a level playing field, while opponents may argue for a &quot;color-blind&quot; or &quot;gender-blind&quot; approach to hiring and promotions.\n",
       "\n",
       "Organizations and societies must carefully consider the implications of these strategies and strive to implement policies that promote fairness and equality while minimizing negative consequences. It is also important to address the root causes of gender inequality, such as unconscious bias, work-life balance challenges, and lack of supportive policies, to create an environment where everyone has the opportunity to succeed based on their capabilities and contributions.&quot;, &quot;Ah, the age-old culinary conundrum that has divided nations and dinner tables: does pineapple belong on a pizza? The tropical twist of pineapple on pizza, known as Hawaiian pizza, is a hotly debated topic where taste buds battle and pizza purists protest.\n",
       "\n",
       "Let&#x27;s slice into the debate with a zest of fun:\n",
       "\n",
       "**Team Pineapple:** &quot;Absolutely, yes! Pineapple on pizza is like a beach party in your mouth. The sweet juiciness of pineapple chunks frolicking with savory ham or bacon creates a flavor wave that surfs across the cheesy ocean of deliciousness. It&#x27;s the Mardi Gras of pizzas, where sweet meets savory in a jubilant jamboree!&quot;\n",
       "\n",
       "**Team No-Pineapple:** &quot;No way, not in a million pizzas! Pineapple is a fruit that should be sunbathing on a tropical fruit platter, not freeloading on a sacred slice of pizza. The thought of warm, melty cheese conspiring with pineapple&#x27;s sugary mischief is enough to make Italian ancestors turn in their tomato patches. Keep the pineapple in the fruit salad where it belongs!&quot;\n",
       "\n",
       "At the end of the day, whether pineapple belongs on pizza is a matter of personal taste. Some say it&#x27;s a match made in heaven, others say it&#x27;s a culinary crime. But let&#x27;s face it, in the world of pizza toppings, where you can find everything from anchovies to zucchini, there&#x27;s room for a little pineapple pizzazz. So, if your taste buds crave that sweet and tangy twist, go ahead and let your pineapple flag fly atop that glorious cheese-covered dough. Bon appétit, or as they say in pineapple paradise, &quot;Aloha-ppetite!&quot; 🍍🍕&quot;]</td><td>[&quot;As an AI, I don&#x27;t have personal beliefs or opinions. However, I can tell you that the question of gender quotas in managerial positions is a complex one and positions can vary. Advocates argue that such measures can help correct historical imbalances, promote diversity, and may lead to better decision-making. Critics may argue that positions should be based purely on merit, and that quotas could potentially lead to tokenism or unqualified candidates being promoted. Morality can be subjective and differs from person to person based on their personal beliefs, cultural background, and values. It&#x27;s a topic with valid arguments on both sides, and it&#x27;s up to each individual or organization to decide what they believe is right.&quot;, &quot;As an AI, I don&#x27;t eat, so I don&#x27;t have personal preferences. But, in the world of pizza, the pineapple topping is a hotly debated topic! Some people love the sweet and savory mix it brings to a pizza, a flavor combination made famous by the Hawaiian pizza. Others firmly believe that the sweetness of the fruit has no place on a pizza. It&#x27;s a pizza puzzle that might never be solved. So, whether pineapple belongs on a pizza or not, it truly depends on your taste buds!&quot;]</td><td>1</td><td>0</td><td>0</td></tr></tbody></table></div>"
      ],
      "text/plain": [
       "shape: (1, 9)\n",
       "┌───────┬────────────┬────────────┬────────────┬───┬───────────┬───────────┬───────────┬───────────┐\n",
       "│ id    ┆ model_a    ┆ model_b    ┆ prompt     ┆ … ┆ response_ ┆ winner_mo ┆ winner_mo ┆ winner_ti │\n",
       "│ ---   ┆ ---        ┆ ---        ┆ ---        ┆   ┆ b         ┆ del_a     ┆ del_b     ┆ e         │\n",
       "│ i64   ┆ str        ┆ str        ┆ list[str]  ┆   ┆ ---       ┆ ---       ┆ ---       ┆ ---       │\n",
       "│       ┆            ┆            ┆            ┆   ┆ list[str] ┆ i64       ┆ i64       ┆ i64       │\n",
       "╞═══════╪════════════╪════════════╪════════════╪═══╪═══════════╪═══════════╪═══════════╪═══════════╡\n",
       "│ 30192 ┆ gpt-4-1106 ┆ gpt-4-0613 ┆ [\"Is it    ┆ … ┆ [\"As an   ┆ 1         ┆ 0         ┆ 0         │\n",
       "│       ┆ -preview   ┆            ┆ morally    ┆   ┆ AI, I     ┆           ┆           ┆           │\n",
       "│       ┆            ┆            ┆ right to   ┆   ┆ don't     ┆           ┆           ┆           │\n",
       "│       ┆            ┆            ┆ try t…     ┆   ┆ have      ┆           ┆           ┆           │\n",
       "│       ┆            ┆            ┆            ┆   ┆ perso…    ┆           ┆           ┆           │\n",
       "└───────┴────────────┴────────────┴────────────┴───┴───────────┴───────────┴───────────┴───────────┘"
      ]
     },
     "execution_count": 10,
     "metadata": {},
     "output_type": "execute_result"
    }
   ],
   "source": [
    "df = (\n",
    "    pl.read_csv('data/train.csv')\n",
    "    .with_columns(\n",
    "        prompt=pl.col('prompt').str.json_decode(),\n",
    "        response_a=pl.col('response_a').str.json_decode(),\n",
    "        response_b=pl.col('response_b').str.json_decode(),\n",
    "    )\n",
    ")\n",
    "df.head(1)"
   ]
  },
  {
   "cell_type": "code",
   "execution_count": 3,
   "metadata": {},
   "outputs": [
    {
     "data": {
      "text/plain": [
       "[Int64, String, String, String, String, String, Int64, Int64, Int64]"
      ]
     },
     "execution_count": 3,
     "metadata": {},
     "output_type": "execute_result"
    }
   ],
   "source": [
    "df.dtypes"
   ]
  },
  {
   "cell_type": "code",
   "execution_count": 11,
   "metadata": {},
   "outputs": [
    {
     "data": {
      "text/html": [
       "<div><style>\n",
       ".dataframe > thead > tr,\n",
       ".dataframe > tbody > tr {\n",
       "  text-align: right;\n",
       "  white-space: pre-wrap;\n",
       "}\n",
       "</style>\n",
       "<small>shape: (1, 3)</small><table border=\"1\" class=\"dataframe\"><thead><tr><th>winner_model_a</th><th>winner_model_b</th><th>winner_tie</th></tr><tr><td>f64</td><td>f64</td><td>f64</td></tr></thead><tbody><tr><td>0.349079</td><td>0.341911</td><td>0.309011</td></tr></tbody></table></div>"
      ],
      "text/plain": [
       "shape: (1, 3)\n",
       "┌────────────────┬────────────────┬────────────┐\n",
       "│ winner_model_a ┆ winner_model_b ┆ winner_tie │\n",
       "│ ---            ┆ ---            ┆ ---        │\n",
       "│ f64            ┆ f64            ┆ f64        │\n",
       "╞════════════════╪════════════════╪════════════╡\n",
       "│ 0.349079       ┆ 0.341911       ┆ 0.309011   │\n",
       "└────────────────┴────────────────┴────────────┘"
      ]
     },
     "execution_count": 11,
     "metadata": {},
     "output_type": "execute_result"
    }
   ],
   "source": [
    "df[['winner_model_a', 'winner_model_b', 'winner_tie']].mean()"
   ]
  },
  {
   "cell_type": "code",
   "execution_count": 17,
   "metadata": {},
   "outputs": [
    {
     "data": {
      "text/html": [
       "<div><style>\n",
       ".dataframe > thead > tr,\n",
       ".dataframe > tbody > tr {\n",
       "  text-align: right;\n",
       "  white-space: pre-wrap;\n",
       "}\n",
       "</style>\n",
       "<small>shape: (1, 3)</small><table border=\"1\" class=\"dataframe\"><thead><tr><th>prompt</th><th>response_a</th><th>response_b</th></tr><tr><td>u32</td><td>u32</td><td>u32</td></tr></thead><tbody><tr><td>36</td><td>36</td><td>36</td></tr></tbody></table></div>"
      ],
      "text/plain": [
       "shape: (1, 3)\n",
       "┌────────┬────────────┬────────────┐\n",
       "│ prompt ┆ response_a ┆ response_b │\n",
       "│ ---    ┆ ---        ┆ ---        │\n",
       "│ u32    ┆ u32        ┆ u32        │\n",
       "╞════════╪════════════╪════════════╡\n",
       "│ 36     ┆ 36         ┆ 36         │\n",
       "└────────┴────────────┴────────────┘"
      ]
     },
     "execution_count": 17,
     "metadata": {},
     "output_type": "execute_result"
    }
   ],
   "source": [
    "(\n",
    "    df\n",
    "    .select([\n",
    "        pl.col('prompt').list.len().max(),\n",
    "        pl.col('response_a').list.len().max(),\n",
    "        pl.col('response_b').list.len().max(),\n",
    "    ])\n",
    ")"
   ]
  },
  {
   "cell_type": "code",
   "execution_count": null,
   "metadata": {},
   "outputs": [],
   "source": []
  }
 ],
 "metadata": {
  "kernelspec": {
   "display_name": "kaggle",
   "language": "python",
   "name": "python3"
  },
  "language_info": {
   "codemirror_mode": {
    "name": "ipython",
    "version": 3
   },
   "file_extension": ".py",
   "mimetype": "text/x-python",
   "name": "python",
   "nbconvert_exporter": "python",
   "pygments_lexer": "ipython3",
   "version": "3.11.9"
  }
 },
 "nbformat": 4,
 "nbformat_minor": 2
}
